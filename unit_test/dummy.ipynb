{
 "cells": [
  {
   "cell_type": "code",
   "execution_count": 1,
   "id": "9b6b0e2a-67d5-4fa1-8c9a-1fae9ccce34b",
   "metadata": {},
   "outputs": [],
   "source": [
    "from utils import *\n",
    "from data_validation_checks import *\n",
    "from constants import *\n",
    "from city_tier_mapping import *\n",
    "from significant_categorical_level import *\n",
    "from schema import *"
   ]
  },
  {
   "cell_type": "code",
   "execution_count": 4,
   "id": "e7b51c67-6690-4311-8718-a42210757cb7",
   "metadata": {},
   "outputs": [
    {
     "name": "stdout",
     "output_type": "stream",
     "text": [
      "DB Already Exists\n",
      "/home/Assignment/01_data_pipeline/scripts\n"
     ]
    },
    {
     "data": {
      "text/plain": [
       "'DB Exists'"
      ]
     },
     "execution_count": 4,
     "metadata": {},
     "output_type": "execute_result"
    }
   ],
   "source": [
    "build_dbs(DB_PATH,DB_FILE_NAME)"
   ]
  },
  {
   "cell_type": "code",
   "execution_count": 3,
   "id": "56fc1fcf-70ee-4e55-a220-7a47534f2dcc",
   "metadata": {},
   "outputs": [
    {
     "name": "stdout",
     "output_type": "stream",
     "text": [
      "Reading csv file from data directory\n",
      "Replacing any null values present in 'toal_leads_dropped' and 'referred_lead' with 0\n",
      "Saving the processed dataframe in the db in a table named 'loaded_data\n",
      "Closing database connection\n"
     ]
    }
   ],
   "source": [
    "load_data_into_db(DB_PATH, DB_FILE_NAME, DATA_DIRECTORY)"
   ]
  },
  {
   "cell_type": "code",
   "execution_count": 5,
   "id": "6ebce854-754b-40e2-b1cc-4ec3a1035702",
   "metadata": {},
   "outputs": [
    {
     "name": "stdout",
     "output_type": "stream",
     "text": [
      "Connecting to database\n",
      "Reading data from loaded_data table\n",
      "Mapping cities to their tier\n",
      "Saving the processed dataframe in the db in a table named 'city_tier_mapped'\n",
      "Closing database connection\n"
     ]
    }
   ],
   "source": [
    "map_city_tier(DB_PATH, DB_FILE_NAME, city_tier_mapping)"
   ]
  },
  {
   "cell_type": "code",
   "execution_count": 6,
   "id": "b1552728-96b6-42bb-b718-2fa1519c0b65",
   "metadata": {},
   "outputs": [
    {
     "name": "stdout",
     "output_type": "stream",
     "text": [
      "Connecting to database\n",
      "Reading data from city_tier_mapped table\n",
      "Mapping all the unsignificant variables present in first_platform_c\n",
      "Mapping all the unsignificant variables present in first_utm_medium_c\n",
      "Mapping all the unsignificant variables present in first_utm_source_c\n",
      "Saving the processed dataframe in the db in a table named 'categorical_variables_mapped'\n",
      "Closing database connection\n"
     ]
    }
   ],
   "source": [
    "map_categorical_vars(DB_PATH, DB_FILE_NAME, list_platform, list_medium, list_source)"
   ]
  },
  {
   "cell_type": "code",
   "execution_count": 3,
   "id": "318f2b89-fd9f-432a-9737-15b7b1f86ead",
   "metadata": {},
   "outputs": [
    {
     "name": "stdout",
     "output_type": "stream",
     "text": [
      "Connecting to database\n",
      "Reading data from categorical_variables_mapped table\n",
      "Reading interaction_mapping from categorical_variables_mapped table\n",
      "Unpivoting the interaction columns and put the values in rows\n",
      "Handling the nulls in the interaction value column\n",
      "Mapping interaction type column with the mapping file to get interaction mapping\n",
      "Dropping the interaction type column as it is not needed\n",
      "Pivoting the interaction mapping column values to individual columns in the dataset\n",
      "Saving the processed dataframe in the db in a table named 'interactions_mapped'\n",
      "Closing database connection\n"
     ]
    }
   ],
   "source": [
    "interactions_mapping(DB_PATH, DB_FILE_NAME, INTERACTION_MAPPING, INDEX_COLUMNS)"
   ]
  },
  {
   "cell_type": "code",
   "execution_count": null,
   "id": "881bac4e-10b7-48aa-826d-74bde32d4c85",
   "metadata": {},
   "outputs": [],
   "source": []
  }
 ],
 "metadata": {
  "kernelspec": {
   "display_name": "Python 3 (ipykernel)",
   "language": "python",
   "name": "python3"
  },
  "language_info": {
   "codemirror_mode": {
    "name": "ipython",
    "version": 3
   },
   "file_extension": ".py",
   "mimetype": "text/x-python",
   "name": "python",
   "nbconvert_exporter": "python",
   "pygments_lexer": "ipython3",
   "version": "3.8.12"
  }
 },
 "nbformat": 4,
 "nbformat_minor": 5
}
